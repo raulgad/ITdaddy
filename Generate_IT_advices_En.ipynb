{
  "cells": [
    {
      "cell_type": "code",
      "execution_count": null,
      "metadata": {
        "id": "0jiKZ8TYFKBw"
      },
      "outputs": [],
      "source": [
        "%pip install transformers"
      ]
    },
    {
      "cell_type": "code",
      "execution_count": 3,
      "metadata": {
        "id": "hnVtamfkWJ_R"
      },
      "outputs": [],
      "source": [
        "import numpy as np\n",
        "import pandas as pd\n",
        "import re\n",
        "import random\n",
        "\n",
        "import torch\n",
        "from tqdm.notebook import tqdm\n",
        "\n",
        "if torch.cuda.is_available():    \n",
        "    device = torch.device(\"cuda\")\n",
        "else:\n",
        "    device = torch.device(\"cpu\")\n",
        "\n",
        "import warnings\n",
        "warnings.filterwarnings('ignore')\n",
        "\n",
        "import transformers\n",
        "\n",
        "from transformers import GPT2Tokenizer\n",
        "\n",
        "import textwrap"
      ]
    },
    {
      "cell_type": "code",
      "execution_count": null,
      "metadata": {
        "id": "uAb1hQgNWKCE"
      },
      "outputs": [],
      "source": [
        "tokenizer = GPT2Tokenizer.from_pretrained('gpt2')"
      ]
    },
    {
      "cell_type": "code",
      "execution_count": 4,
      "metadata": {
        "colab": {
          "base_uri": "https://localhost:8080/"
        },
        "id": "n-doHWhpfFLn",
        "outputId": "e3f10ba3-14f8-4a3b-e279-a8d173bdd21c"
      },
      "outputs": [
        {
          "output_type": "stream",
          "name": "stdout",
          "text": [
            "['Composite – Compose objects into tree structures to represent part-whole hierarchies.', 'Decorator – Attach additional responsibilities to an object dynamically keeping the same interface.', 'Golden hammer: Assuming that a favorite solution is universally applicable', \"Brooks's law: Adding more resources to a project to increase velocity, when the project is already slowed by coordination overhead\", 'Not invented here (NIH) syndrome: The tendency towards reinventing the wheel (failing to adopt an existing, adequate solution)', 'Tester-driven development: Software projects in which new requirements are specified in bug reports', 'Vendor lock-in: Making a system excessively dependent on an externally supplied component', 'Extension object – Adding functionality to a hierarchy without changing the hierarchy.', 'Open–closed principle – software entities (classes, modules, functions, etc.) should be open for extension, but closed for modification.', 'Messaging design pattern (MDP) – Allows the interchange of information (i.e. messages) between components and applications.', 'State – Allow an object to alter its behavior when its internal state changes. The object will appear to change its class.', '\\ufeffAbstract factory – Provide an interface for creating families of related or dependent objects without specifying their concrete classes.', 'Facade – Provide a unified interface to a set of interfaces in a subsystem.', 'Big ball of mud: A system with no recognizable structure', 'Guarded suspension – Manages operations that require both a lock to be acquired and a precondition to be satisfied before the operation can be executed.', 'Singleton – Ensure a class has only one instance, and provide a global point of access to it.', 'Loop-switch sequence: Encoding a set of sequential steps using a switch within a loop statement', 'Thread-specific storage – Static or \"global\" memory local to a thread.', \"Anemic domain model: The use of the domain model without any business logic. The domain model's objects cannot guarantee their correctness at any moment, because their validation and mutation logic is placed somewhere outside (most likely in multiple places). Martin Fowler considers this to be an anti-pattern, but some disagree that it is always an anti-pattern.\", 'Coupling – low coupling is often thought to be a sign of a well-structured computer system and a good design, and when combined with high cohesion, supports the general goals of high readability and maintainability.', 'There should be one– and preferably only one –obvious way to do it.[a]', 'Code reuse – is the use of existing software, or software knowledge, to build new software,[1] following the reusability principles.', 'Servant – Define common functionality for a group of classes, the servant pattern is also frequently called helper class or utility class implementation for a given set of classes.', 'God object: Concentrating too many functions in a single part of the design (class)', 'Command–query separation – every method should either be a command that performs an action, or a query that returns data to the caller, but not both.', 'Separation of concerns – Each section addresses a separate concern, a set of information that affects the code of a computer program.', \"Call super: Requiring subclasses to call a superclass's overridden method\", 'Sequential coupling: A class that requires its methods to be called in a particular order', 'Silver bullet: Assuming that a favorite technical solution can solve a larger process or problem', 'Specification – Recombinable business logic in a Boolean fashion.', 'Inner-platform effect: A system so customizable as to become a poor replica of the software development platform', 'Poltergeists: Objects whose sole purpose is to pass information to another object', 'Mediator – Define an object that encapsulates how a set of objects interact. ', 'Composition over inheritance – is the principle that classes should achieve polymorphic behavior and code reuse by their composition rather than inheritance from a base or parent class.', 'Now is better than never.', 'Read-write lock – Allows concurrent read access to an object, but requires exclusive access for write operations.', 'Loose coupling – a loosely coupled system is one in which components are weakly associated with each other, and so, changes in one component least affect existence or performance of another component.', 'Worse is better – Software quality does not necessarily increase with functionality: that there is a point where less functionality (\"worse\") is a preferable option (\"better\") in terms of practicality and usability.', 'Singleton Pattern: This design pattern brings coupling and is considered a bad solution', 'KISS principle – principle states that most systems work best if they are kept simple rather than made complicated; therefore, simplicity should be a key goal in design, and unnecessary complexity should be avoided.', 'Seagull management: Management in which managers only interact with employees when a problem arises, when they \"fly in, make a lot of noise, dump on everyone, do not solve the problem, then fly out\"', 'Flat is better than nested.', 'Object cesspool: Reusing objects whose state does not conform to the (possibly implicit) contract for re-use', 'Constant interface: Using interfaces to define constants', 'Spaghetti code: Programs whose structure is barely comprehensible, especially because of misuse of code structures', 'Management by objectives (SAFe): Management operating with the exclusive focus on quantitative management criteria, such as number of sales, when these are non-essential or cost too much to acquire', 'Peter principle: Continually promoting otherwise well-performing employees up to a position they are unsuited for, with responsibilities they are incompetent at completing, where they remain indefinitely', 'Module – Group several related elements, such as classes, singletons, methods, globally used, into a single conceptual entity.', 'Typecasting: Locking successful employees into overly-safe, narrowly defined, predictable roles based on their past successes rather than their potential', 'JAR hell: Overutilization of multiple JAR files, usually causing versioning and location problems because of misunderstanding of the Java class loading model', 'Overengineering: Spending resources making a project more robust and complex than is needed', 'Resource acquisition is initialization (RAII) – Ensure that resources are properly released by tying them to the lifespan of suitable objects.', 'Lazy initialization – Tactic of delaying the creation of an object, the calculation of a value, or some other expensive process until the first time it is needed.', 'Defensive programming – is a form of defensive design intended to ensure the continuing function of a piece of software under unforeseen circumstances.', 'Input kludge: Failing to specify and implement the handling of possibly invalid input', 'Object pool – Avoid expensive acquisition and release of resources by recycling objects that are no longer in use. ', \"Special cases aren't special enough to break the rules.\", \"Prototype – Specify the kinds of objects to create using a prototypical instance, and create new objects from the 'skeleton' of an existing object, thus boosting performance and keeping memory footprints to a minimum.\", 'Scheduler – Explicitly control when threads may execute single-threaded code.', 'Deutsch limit – The problem with visual programming is that you can’t have more than 50 visual primitives on the screen at the same time.', 'Information hiding – is the principle of segregation of the design decisions in a computer program that are most likely to change, thus protecting other parts of the program from extensive modification if the design decision is changed.', 'Errors should never pass silently.', \"Namespaces are one honking great idea – let's do more of those!\", 'Interpreter – Given a language, define a representation for its grammar along with an interpreter that uses the representation to interpret sentences in the language.', 'Cash cow: A profitable legacy product that often leads to complacency about new products', \"Death march: A project whose staff, while expecting it to fail, are compelled to continue, often with much overwork, by management in denial of the project's possible failure.\", 'Reactor – A reactor object provides an asynchronous interface to resources that must be handled synchronously.', 'Safe Concurrency with Exclusive Ownership – Avoiding the need for runtime concurrent mechanisms, because exclusive ownership can be proven. ', 'Command – Encapsulate a request as an object, thereby allowing for the parameterization of clients with different requests, and the queuing or logging of requests. It also allows for the support of undoable operations.', 'Null object – Avoid null references by providing a default object.', 'Complex is better than complicated.', 'Circular dependency: Introducing unnecessary direct or indirect mutual dependencies between objects or software modules', 'Groupthink: A collective state where group members begin, often unknowingly, to think alike and reject differing viewpoints', 'The Zero one infinity (ZOI) rule – It argues that arbitrary limits on the number of instances of a particular type of data or structure should not be allowed.', 'Stovepipe system: A barely maintainable assemblage of ill-related components', 'Join – Join-pattern provides a way to write concurrent, parallel and distributed programs by message passing. ', 'Thread pool – A number of threads are created to perform a number of tasks, which are usually organized in a queue. ', 'Escalation of commitment: Failing to revoke a decision when it proves wrong', 'Template method – Define the skeleton of an algorithm in an operation, deferring some steps to subclasses.', 'Separation of mechanism and policy – It states that mechanisms should not dictate the policies according to which decisions are made about which operations to authorize, and which resources to allocate.', 'Law of Demeter – Each unit should have only limited knowledge about other units: only units \"closely\" related to the current unit.', 'Although never is often better than right now.[b]', 'Multiton – Ensure a class has only named instances, and provide a global point of access to them.', 'Event-based asynchronou – Addresses problems with the asynchronous pattern that occur in multithreaded programs.', 'Caching failure: Forgetting to clear a cache that holds a negative result (error) after the error condition has been corrected', 'Adapter – Convert the interface of a class into another interface clients expect. ', \"Scope creep: Uncontrolled changes or continuous growth in a project's scope, or adding new features to the project after the original requirements have been drafted and accepted (also known as requirement creep and feature creep)\", 'Coding by exception: Adding new code to handle each special case as it is recognized', 'Factory method – Define an interface for creating a single object, but let subclasses decide which class to instantiate. Factory Method lets a class defer instantiation to subclasses.', 'Shooting the messenger: Throwing exceptions from the scope of a plugin or subscriber in response to legitimate input, especially when this causes the outer scope to fail.', 'Ambiguous viewpoint: Presenting a model (usually Object-oriented analysis and design (OOAD)) without specifying its viewpoint', \"If the implementation is hard to explain, it's a bad idea.\", 'Fail-fast – a fail-fast system is one which immediately reports at its interface any condition that is likely to indicate a failure. ', 'Database-as-IPC: Using a database as the message queue for routine interprocess communication where a much more lightweight mechanism would be suitable', 'Cohesion – refers to the degree to which the elements inside a module belong together. ', 'DLL hell: Inadequate management of dynamic-link libraries (DLLs), specifically on Microsoft Windows', 'Liskov substitution principle – a principle in object-oriented programming stating that an object (such as a class) and a sub-object (such as a class that extends the first class) must be interchangeable without breaking the program.', 'Dependency inversion principle – High-level modules should not import anything from low-level modules. Both should depend on abstractions. Abstractions should not depend on details. Details should depend on abstractions.', \"You aren't gonna need it – s a principle which arose from extreme programming (XP) that states a programmer should not add functionality until deemed necessary.\", 'Abstraction inversion: Not exposing implemented functionality required by callers of a function/method/constructor, so that the calling code awkwardly re-implements the same functionality in terms of those calls', 'Hard code: Embedding assumptions about the environment of a system in its implementation', 'Bridge – Decouple an abstraction from its implementation allowing the two to vary independently.', 'Micromanagement: Ineffective results stemming from excessive observation, supervision, or other hands-on involvement from management', 'Offensive programming – offensive programming adds an explicit priority of not tolerating errors in wrong places.', 'Shotgun surgery: Developer adds features to an application codebase that span a multiplicity of implementors or implementations in a single change', \"Don't repeat yourself – is a principle of software development aimed at reducing repetition of software patterns, replacing it with abstractions or using data normalization to avoid redundancy.\", 'Design by committee: The result of having many contributors to a design, but no unifying vision', \"Gall's law – A complex system that works is invariably found to have evolved from a simple system that worked. A complex system designed from scratch never works and cannot be patched up to make it work.\", 'Interface segregation principle – states that no code should be forced to depend on methods it does not use.', 'Flyweight – Use sharing to support large numbers of similar objects efficiently.', 'Object orgy: Failing to properly encapsulate objects permitting unrestricted access to their internals', \"Memento – Without violating encapsulation, capture and externalize an object's internal state allowing the object to be restored to this state later.\", 'Mushroom management: Keeping employees \"in the dark and fed manure\" (also \"left to stew and finally canned\") about decisions being taken by management', 'Moral hazard: Insulating a decision-maker from the consequences of their decision', 'Black box – is a system which can be viewed in terms of its inputs and outputs (or transfer characteristics), without any knowledge of its internal workings.', 'Action at a distance: Unexpected interaction between widely separated parts of a system', 'Visitor – Represent an operation to be performed on instances of a set of classes. ', '', 'Cart before the horse: Focusing too many resources on a stage of a project out of its sequence', 'Iterator\\t – Provide a way to access the elements of an aggregate object sequentially without exposing its underlying representation.', 'Dependency hell: Problems with versions of required products', 'Compute kernel – The same calculation many times in parallel, differing by integer parameters used with non-branching pointer math into shared array.', \"Although that way may not be obvious at first unless you're Dutch.\", 'Error hiding: Catching an error message before it can be shown to the user and either showing nothing or showing a meaningless message. This anti-pattern is also named Diaper Pattern. Also can refer to erasing the Stack trace during exception handling, which can hamper debugging.', 'Analysis paralysis: A project that has stalled in the analysis phase of development, and is unable to achieve support for any of the potential plans of its implementation', 'Lava flow: Retaining undesirable (redundant or low-quality) code because removing it is too expensive or has unpredictable consequences', 'Smoke and mirrors: Demonstrating unimplemented functions as if they were already implemented', 'Repeating yourself: Writing code that contains repetitive patterns and substrings over again; avoid with once and only once (abstraction principle)', 'Magic numbers: Including unexplained numbers in algorithms', 'If the implementation is easy to explain, it may be a good idea.', 'Programming by permutation (or \"programming by accident\", or \"programming by coincidence\"): Trying to approach a solution by successively modifying the code to see if it works', 'Unless explicitly silenced.', 'Proxy – Provide a surrogate or placeholder for another object to control access to it.', 'Discoverability –  is the degree to which something, especially a piece of content or information, can be found in a search of a file, database, or other information system.', 'Soft code: Storing business logic in configuration files rather than source code', 'Twin – Twin allows modeling of multiple inheritance in programming languages that do not support this feature.', 'Cargo cult programming: Using patterns and methods without understanding why', 'Lasagna code: Programs whose structure consists of too many layers of inheritance', 'Ninety–ninety rule – The first 90 percent of the code accounts for the first 90 percent of the development time. The remaining 10 percent of the code accounts for the other 90 percent of the development time.', 'Lock – One thread puts a \"lock\" on a resource, preventing other threads from accessing or modifying it.', 'Chain of responsibility – Avoid coupling the sender of a request to its receiver by giving more than one object a chance to handle the request. ', 'Busy waiting: Consuming CPU while waiting for something to happen, usually by repeated checking instead of messaging', 'Dependency Injection\\t – A class accepts the objects it requires from an injector instead of creating the objects directly.', 'Monitor object – An object whose methods are subject to mutual exclusion, thus preventing multiple objects from erroneously trying to use it at the same time.', 'Interface bloat: Making an interface so powerful that it is extremely difficult to implement', \"Single-responsibility principle – is a computer-programming principle that states that every module, class or function in a computer program should have responsibility over a single part of that program's functionality, and it should encapsulate that part.\", 'Invented here: The tendency towards dismissing any innovation or less than trivial solution originating from inside the organization, usually because of lack of confidence in the staff', 'Principle of least astonishment – It proposes that a component of a system should behave in a way that most users will expect it to behave.', 'Observer – Define a one-to-many dependency between objects where a state change in one object results in all its dependents being notified and updated automatically.', 'Explicit is better than implicit.', 'Bleeding edge: Operating with cutting-edge technologies that are still untested or unstable, leading to cost overruns, under-performance or delayed delivery of the product', 'CPU atomic operation – x86 and other CPU architectures support a range of atomic instructions that guarantee memory safety for modifying and accessing primitive values (integers).', 'Reinventing the square wheel: Failing to adopt an existing solution and instead adopting a custom solution that performs much worse than the existing one', 'Abstraction principle – is a basic dictum that aims to reduce duplication of information in a program whenever practical by making use of abstractions provided by the programming language or software libraries.', 'Bystander apathy: The phenomenon in which people are less likely to or do not offer help to a person in need when others are present', 'Magic pushbutton: A form with no dynamic validation or input assistance, such as dropdowns', 'Inversion of control – inverts the flow of control as compared to traditional control flow. In IoC, custom-written portions of a computer program receive the flow of control from a generic framework.', 'In the face of ambiguity, refuse the temptation to guess.', 'Beautiful is better than ugly.', 'Readability counts.', 'Copy and paste programming: Copying (and modifying) existing code rather than creating generic solutions', \"Double-checked locking – Reduce the overhead of acquiring a lock by first testing the locking criterion (the 'lock hint') in an unsafe manner.\", 'Binding properties – Combining multiple observers to force properties in different objects to be synchronized or coordinated in some way.', 'Blackboard – Artificial intelligence pattern for combining disparate sources of data.', 'Circle–ellipse problem: Subtyping variable-types on the basis of value-subtypes', 'Although practicality beats purity.', 'Premature optimization: Coding early-on for perceived efficiency, sacrificing good design, maintainability, and sometimes even real-world efficiency', 'Yo-yo problem: A structure (e.g., of inheritance) that is hard to understand due to excessive fragmentation', 'Ninety-ninety rule: Tendency to underestimate the amount of time to complete a project when it is \"nearly done\"', 'Race hazard (or race condition): Failing to see the consequences of events that can sometimes interfere with each other.', 'Extension conflict: Problems with different extensions to classic Mac OS attempting to patch the same parts of the operating system', 'Marker\\t – Empty interface to associate metadata with a class.', 'Boat anchor: Retaining a part of a system that no longer has any use', 'Uniform access principle – All services offered by a module should be available through a uniform notation, which does not betray whether they are implemented through storage or through computation.', 'Accidental complexity: Programming tasks that could be eliminated with better tools (as opposed to essential complexity inherent in the problem being solved)', 'Active Object – Decouples method execution from method invocation that reside in their own thread of control.', 'Magic strings: Implementing presumably unlikely input scenarios, such as comparisons with very specific strings, to mask functionality.', 'Sparse is better than dense.', 'Strategy – Define a family of algorithms, encapsulate each one, and make them interchangeable.', 'Bicycle shed: Giving disproportionate weight to trivial issues', 'Front controller – The pattern relates to the design of Web applications, it provides a centralized entry point for handling requests.', 'Simple is better than complex.', 'SOLID – is a mnemonic acronym for five design principles intended to make software designs more understandable, flexible, and maintainable.', 'Stovepipe or Silos: An organizational structure of isolated or semi-isolated teams, in which too many communications take place up and down the hierarchy, rather than directly with other teams across the organization', 'Builder – Separate the construction of a complex object from its representation, allowing the same construction process to create various representations.', 'Balking – Only execute an action on an object when the object is in a particular state.', 'Rule of three – It states that two instances of similar code do not require refactoring, but when similar code is used three times, it should be extracted into a new procedure.', 'Gold plating: Continuing to work on a task or project well past the point at which extra effort is not adding value']\n"
          ]
        }
      ],
      "source": [
        "with open('IT_Advices_Proverbs_En.txt', encoding='utf8') as f:\n",
        "    text = f.read()\n",
        "    text = text.split('\\n')\n",
        "\n",
        "random.shuffle(text)\n",
        "print(text)\n"
      ]
    },
    {
      "cell_type": "code",
      "execution_count": 7,
      "metadata": {
        "colab": {
          "base_uri": "https://localhost:8080/"
        },
        "id": "646utEIIibXz",
        "outputId": "1139c0ed-ee16-469f-c8d6-af2ccb6769c5"
      },
      "outputs": [
        {
          "output_type": "stream",
          "name": "stdout",
          "text": [
            "len(train), len(test):  151 37\n",
            "max_length, index_max_length:  69 18\n"
          ]
        }
      ],
      "source": [
        "train = []\n",
        "test = []\n",
        "max_length = 0\n",
        "index_max_length = 0\n",
        "\n",
        "for idx, value in enumerate(text):\n",
        "  tokens = tokenizer.encode(value, add_special_tokens=True)\n",
        "  tokens = np.array(tokens)\n",
        "\n",
        "  curr_len = len(tokens)\n",
        "  if curr_len >= max_length:\n",
        "    max_length = curr_len\n",
        "    index_max_length = idx\n",
        "\n",
        "  if idx <= (len(text) * .8):\n",
        "    train.append(tokens)\n",
        "\n",
        "  else:\n",
        "    test.append(tokens)\n",
        "\n",
        "train = np.array(train)\n",
        "test = np.array(test)\n",
        "\n",
        "print('len(train), len(test): ', len(train), len(test))\n",
        "print('max_length, index_max_length: ', max_length, index_max_length)\n"
      ]
    },
    {
      "cell_type": "code",
      "execution_count": 8,
      "metadata": {
        "colab": {
          "base_uri": "https://localhost:8080/"
        },
        "id": "i3rGTVpmnAgL",
        "outputId": "68485300-0b33-4109-b0ab-312b2be71b61"
      },
      "outputs": [
        {
          "output_type": "stream",
          "name": "stdout",
          "text": [
            "(151, 69)\n",
            "[    0     0     0     0     0     0     0     0     0     0     0     0\n",
            "     0     0     0     0     0     0     0     0     0     0     0     0\n",
            "     0     0     0     0     0     0     0     0     0     0     0     0\n",
            "  3987   470  9585  3511   784   318   257  7989   286  3788  2478  8998\n",
            "   379  8868 29693   286  3788  7572    11 13586   340   351 12531   507\n",
            "   393  1262  1366  3487  1634   284  3368 49052    13]\n"
          ]
        }
      ],
      "source": [
        "def Padding(review_int, seq_len):\n",
        "    '''\n",
        "    Return features of review_ints, where each review is padded with 0's or truncated to the input seq_length.\n",
        "    '''\n",
        "    features = np.zeros((len(review_int), seq_len), dtype = int)\n",
        "    for i, review in enumerate(review_int):\n",
        "        if len(review) <= seq_len:\n",
        "            zeros = list(np.zeros(seq_len - len(review)))\n",
        "            # print(len(zeros))\n",
        "            # print(review.shape)\n",
        "            # new = np.array(zeros) + review\n",
        "            new = np.append(zeros, review)\n",
        "\n",
        "        features[i, :] = np.array(new)\n",
        "            \n",
        "    return features\n",
        "\n",
        "train = Padding(train, max_length)\n",
        "test = Padding(test, max_length)\n",
        "\n",
        "print(train.shape)\n",
        "print(train[105, :])"
      ]
    },
    {
      "cell_type": "code",
      "execution_count": 17,
      "metadata": {
        "id": "fLsB31NUfFOX"
      },
      "outputs": [],
      "source": [
        "from transformers import GPT2LMHeadModel, AdamW\n",
        "\n",
        "model_init = GPT2LMHeadModel.from_pretrained(\n",
        "    'gpt2',\n",
        "    output_attentions = False,\n",
        "    output_hidden_states = False,\n",
        ")\n",
        "\n",
        "model = GPT2LMHeadModel.from_pretrained(\n",
        "    'gpt2',\n",
        "    output_attentions = False,\n",
        "    output_hidden_states = False,\n",
        ")\n",
        "\n",
        "model.to(device);\n",
        "model_init.to(device);"
      ]
    },
    {
      "cell_type": "code",
      "execution_count": 18,
      "metadata": {
        "colab": {
          "base_uri": "https://localhost:8080/"
        },
        "id": "P9xwPiy5fFQw",
        "outputId": "85539765-4b2c-47a1-c8ad-9ea28839020f"
      },
      "outputs": [
        {
          "output_type": "stream",
          "name": "stdout",
          "text": [
            "19 5\n"
          ]
        }
      ],
      "source": [
        "optimizer = AdamW(model.parameters(), lr = 1e-5, eps = 1e-8)\n",
        "\n",
        "batch_size = 8\n",
        "epochs = 100\n",
        "\n",
        "n_train = len(train)//batch_size + 1\n",
        "n_test = len(test)//batch_size + 1\n",
        "print(n_train, n_test)\n",
        "\n",
        "total_steps = n_train * epochs\n",
        "scheduler = transformers.get_linear_schedule_with_warmup(optimizer, \n",
        "                                            num_warmup_steps = 0,\n",
        "                                            num_training_steps = total_steps)\n",
        "\n",
        "def accuracy(y_true, logits):\n",
        "    return torch.mean((y_true[1:] == torch.argmax(logits, dim=2)[:-1]).float()).detach().cpu().numpy()"
      ]
    },
    {
      "cell_type": "code",
      "execution_count": 11,
      "metadata": {
        "colab": {
          "base_uri": "https://localhost:8080/"
        },
        "id": "019bkBx11jL1",
        "outputId": "e42f79a7-2b5e-4cd2-a270-c7eb2e1a2c8b"
      },
      "outputs": [
        {
          "output_type": "stream",
          "name": "stdout",
          "text": [
            "preped shape:  torch.Size([8, 69])\n"
          ]
        }
      ],
      "source": [
        "def prep_tensors(x, i, batch_size=batch_size):\n",
        "    start_idx = i*batch_size\n",
        "    end_idx = start_idx + batch_size\n",
        "    batch_ids = x[start_idx: end_idx]\n",
        "    batch_ids = torch.tensor(batch_ids).to(device)\n",
        "    return torch.tensor(batch_ids).to(device)\n",
        "\n",
        "preped = prep_tensors(train, 17)\n",
        "print('preped shape: ', preped.shape)"
      ]
    },
    {
      "cell_type": "code",
      "execution_count": null,
      "metadata": {
        "id": "0fr3PSnOhr2E"
      },
      "outputs": [],
      "source": [
        "\n",
        "for epoch in range(1, epochs+1):\n",
        "    print(f'epoch {epoch}/{epochs} : training')\n",
        "\n",
        "    train_loss = []\n",
        "    train_acc = []\n",
        "    model.train()\n",
        "\n",
        "    pbar = tqdm(range(n_train))\n",
        "    for i in pbar:\n",
        "        batch_ids = prep_tensors(train, i)\n",
        "\n",
        "        model.zero_grad()\n",
        "        loss, logits, _ = model(batch_ids,\n",
        "                             token_type_ids=None, \n",
        "                             labels=batch_ids\n",
        "                             ).values()\n",
        "\n",
        "        loss.backward()\n",
        "        torch.nn.utils.clip_grad_norm_(model.parameters(), 1.0)\n",
        "        optimizer.step()\n",
        "        scheduler.step()\n",
        "        \n",
        "        train_loss.append(loss.item())\n",
        "        train_acc.append(accuracy(batch_ids, logits))\n",
        "        pbar.set_description(f'acc {np.mean(train_acc):.4f} loss {np.mean(train_loss):.4f}', refresh=True)\n",
        "\n",
        "    \n",
        "    print(f'epoch {epoch}/{epochs} : validation')\n",
        "    model.eval()\n",
        "    val_acc = []\n",
        "    val_loss = []\n",
        "    pbar = tqdm(range(n_test))\n",
        "    for i in pbar:\n",
        "        batch_ids = prep_tensors(test, i)\n",
        "        with torch.no_grad():        \n",
        "            loss, logits, _ = model(batch_ids, \n",
        "                                token_type_ids=None, \n",
        "                                labels=batch_ids\n",
        "                                 ).values()\n",
        "        \n",
        "        val_loss.append(loss.item())\n",
        "        val_acc.append(accuracy(batch_ids, logits))\n",
        "        pbar.set_description(f'acc {np.mean(val_acc):.4f} loss {np.mean(val_loss):.4f}', refresh=True)"
      ]
    },
    {
      "cell_type": "code",
      "execution_count": 20,
      "metadata": {
        "colab": {
          "base_uri": "https://localhost:8080/"
        },
        "id": "NhfZJYsBhr4g",
        "outputId": "8ba82b3d-f8d4-4a32-cf5f-631a38f12f08"
      },
      "outputs": [
        {
          "output_type": "stream",
          "name": "stderr",
          "text": [
            "Setting `pad_token_id` to `eos_token_id`:50256 for open-end generation.\n"
          ]
        },
        {
          "output_type": "stream",
          "name": "stdout",
          "text": [
            "Design must be used in conjunction with the following: (a) The name of the person to whom the application is made; and\n",
            "(b) the name, address, and telephone number of.\n",
            "------------------\n",
            "Design must be used in conjunction with the following: (a) The name and address of the person to whom the application\n",
            "is made; and (b) the name, address, and telephone.\n",
            "------------------\n",
            "Design must be used in conjunction with the following: (a) The name and address of the person to whom the application\n",
            "is made; and (b) the name, address, and telephone.\n",
            "------------------\n",
            "Design must be used in conjunction with the following: (a) The name and address of the person to whom the application\n",
            "is made; and (b) the name, address and telephone number.\n",
            "------------------\n",
            "Design must be used in conjunction with the following: (1) The name of the person to whom the application is made; and\n",
            "(2) the name, address, and telephone number of.\n",
            "------------------\n",
            "Design must be approved by the Secretary of Health and Human Services.\n",
            "------------------\n",
            "Design must be used in conjunction with the following: (a) The name and address of the person to whom the application\n",
            "is made; and (b) the name, address, and telephone.\n",
            "------------------\n"
          ]
        }
      ],
      "source": [
        "# Model without training\n",
        "\n",
        "prompt = 'Design must be'\n",
        "prompt = tokenizer.encode(prompt, return_tensors='pt').to(device)\n",
        "out = model_init.generate(\n",
        "    input_ids=prompt,\n",
        "    max_length=40,\n",
        "    num_beams=5,\n",
        "    do_sample=True,\n",
        "    temperature=.7,\n",
        "    top_k=10,\n",
        "    top_p=0.95,\n",
        "    no_repeat_ngram_size=2,\n",
        "    num_return_sequences=7,\n",
        "    ).cpu().numpy()\n",
        "for out_ in out:\n",
        "  wraped = textwrap.fill(tokenizer.decode(out_), 120)\n",
        "  wraped = wraped.replace(\"  \", \" \")\n",
        "  if '.' in wraped:\n",
        "    arr = wraped.split('.')\n",
        "    arr.pop()\n",
        "    final_out_text = '.'.join(arr) + '.'\n",
        "  else:\n",
        "    final_out_text = wraped + '.'\n",
        "  print(final_out_text, end='\\n------------------\\n')"
      ]
    },
    {
      "cell_type": "code",
      "execution_count": 21,
      "metadata": {
        "colab": {
          "base_uri": "https://localhost:8080/"
        },
        "id": "yqMenMhbAsLf",
        "outputId": "603c9773-89a9-49fd-8c0d-8b5f9d984ff1"
      },
      "outputs": [
        {
          "output_type": "stream",
          "name": "stderr",
          "text": [
            "Setting `pad_token_id` to `eos_token_id`:50256 for open-end generation.\n"
          ]
        },
        {
          "output_type": "stream",
          "name": "stdout",
          "text": [
            "Design must be kept in mind when it comes to the design of a computer system.\n",
            "------------------\n",
            "Design must be implemented in a way that is easy to read, maintain, and maintain.\n",
            "------------------\n",
            "Design must be implemented in a way that is easy to read, maintain, and maintain.\n",
            "------------------\n",
            "Design must be kept in mind when designing software, because it is often the first step in the development of a new\n",
            "product or service.\n",
            "------------------\n",
            "Design must be implemented in a way that is easy to read, maintain, and maintain.\n",
            "------------------\n",
            "Design must be kept in mind when designating a part of a system as a whole, because part-whole systems can vary widely\n",
            "in their functionality. Also, parts may not always be interchangeable.\n",
            "------------------\n",
            "Design must be kept in mind when it comes to the design of a computer system.\n",
            "------------------\n"
          ]
        }
      ],
      "source": [
        "# Trained model\n",
        "\n",
        "prompt = 'Design must be'\n",
        "prompt = tokenizer.encode(prompt, return_tensors='pt').to(device)\n",
        "\n",
        "out = model.generate(\n",
        "    input_ids=prompt,\n",
        "    max_length=40,\n",
        "    num_beams=5,\n",
        "    do_sample=True,\n",
        "    temperature=.7,\n",
        "    top_k=10,\n",
        "    top_p=0.95,\n",
        "    no_repeat_ngram_size=2,\n",
        "    num_return_sequences=7,\n",
        "    ).cpu().numpy()\n",
        "\n",
        "for out_ in out:\n",
        "  wraped = textwrap.fill(tokenizer.decode(out_), 120)\n",
        "  # print(wraped)\n",
        "  wraped = wraped.replace(\"  \", \" \")\n",
        "  if '.' in wraped:\n",
        "    arr = wraped.split('.')\n",
        "    arr.pop()\n",
        "    final_out_text = '.'.join(arr) + '.'\n",
        "  else:\n",
        "    final_out_text = wraped + '.'\n",
        "  print(final_out_text, end='\\n------------------\\n')"
      ]
    },
    {
      "cell_type": "code",
      "execution_count": null,
      "metadata": {
        "id": "-ggZEAtXekBU"
      },
      "outputs": [],
      "source": [
        "def generate(prompt, len_gen=20, temperature=.7):\n",
        "    generated = tokenizer.encode(prompt)\n",
        "    context = torch.tensor([generated]).to(device)\n",
        "    past = None\n",
        "\n",
        "    for i in tqdm(range(len_gen)):\n",
        "        output, past = model(context, past_key_values=past).values()\n",
        "        # token = torch.argmax(output[..., -1, :], dim=-1)\n",
        "        output = output / temperature\n",
        "        token = torch.distributions.Categorical(logits=output[..., -1, :]).sample()\n",
        "        \n",
        "        generated += token.tolist()\n",
        "        context = token.unsqueeze(0)\n",
        "\n",
        "    sequence = tokenizer.decode(generated)\n",
        "\n",
        "    return sequence"
      ]
    },
    {
      "cell_type": "code",
      "execution_count": null,
      "metadata": {
        "id": "tWIT34VnAXzs"
      },
      "outputs": [],
      "source": [
        "prompt = 'Design must be'\n",
        "print(textwrap.fill(generate(prompt, 200, temperature=.8), 120))"
      ]
    }
  ],
  "metadata": {
    "accelerator": "GPU",
    "colab": {
      "collapsed_sections": [],
      "name": "Generate_IT_advices_en.ipynb",
      "provenance": []
    },
    "kernelspec": {
      "display_name": "Python 3",
      "name": "python3"
    },
    "language_info": {
      "name": "python"
    }
  },
  "nbformat": 4,
  "nbformat_minor": 0
}